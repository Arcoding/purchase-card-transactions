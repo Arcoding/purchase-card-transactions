{
 "cells": [
  {
   "cell_type": "code",
   "execution_count": 2,
   "id": "e4f5b7e0",
   "metadata": {},
   "outputs": [],
   "source": [
    "# import libraries\n",
    "import numpy as np\n",
    "import datetime\n",
    "import pandas as pd\n",
    "import matplotlib.pyplot as plt\n",
    "import seaborn as sns\n",
    "import os"
   ]
  },
  {
   "cell_type": "markdown",
   "id": "bcbeae2f",
   "metadata": {},
   "source": [
    "# Pre processing"
   ]
  },
  {
   "cell_type": "code",
   "execution_count": null,
   "id": "9812ea20",
   "metadata": {},
   "outputs": [],
   "source": [
    "\n",
    "for filename in os.listdir(os.getcwd()):\n",
    "   with open(os.path.join(os.getcwd(), filename), 'r') as f: # open in readonly mode\n",
    "      # do your stuff"
   ]
  },
  {
   "cell_type": "code",
   "execution_count": null,
   "id": "41c40e16",
   "metadata": {},
   "outputs": [],
   "source": [
    "# Read data\n",
    "for filename in os.listdir()"
   ]
  }
 ],
 "metadata": {
  "kernelspec": {
   "display_name": "Python 3",
   "language": "python",
   "name": "python3"
  },
  "language_info": {
   "codemirror_mode": {
    "name": "ipython",
    "version": 3
   },
   "file_extension": ".py",
   "mimetype": "text/x-python",
   "name": "python",
   "nbconvert_exporter": "python",
   "pygments_lexer": "ipython3",
   "version": "3.7.10"
  }
 },
 "nbformat": 4,
 "nbformat_minor": 5
}
